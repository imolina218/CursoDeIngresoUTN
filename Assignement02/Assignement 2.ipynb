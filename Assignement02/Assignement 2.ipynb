{
 "cells": [
  {
   "cell_type": "code",
   "execution_count": 24,
   "metadata": {},
   "outputs": [
    {
     "name": "stdout",
     "output_type": "stream",
     "text": [
      "10\n",
      "10\n"
     ]
    }
   ],
   "source": [
    "# 1.1\n",
    "from functools import reduce\n",
    "data = [1, 2, 3, 4]\n",
    "summatory = lambda x, y: y+x\n",
    "\n",
    "def like_reduce(func, lst):\n",
    "    n = lst[0]\n",
    "    for i in lst[1:]:\n",
    "        n = func(n, i)\n",
    "    return n \n",
    "print(like_reduce(summatory, data))\n",
    "print(reduce(summatory, data)) # Test to see if returns the same"
   ]
  },
  {
   "cell_type": "code",
   "execution_count": 23,
   "metadata": {},
   "outputs": [
    {
     "name": "stdout",
     "output_type": "stream",
     "text": [
      "[4, 5, 6]\n",
      "[4, 5, 6]\n",
      "[1, 2, 3, 4, 5, 6]\n"
     ]
    }
   ],
   "source": [
    "# 1.2\n",
    "data = [1, 2, 3, 4, 5, 6]\n",
    "\n",
    "def like_filter(funq, lst):\n",
    "    data_filt = []\n",
    "    for i in lst:\n",
    "        if funq(i):\n",
    "            data_filt.append(i)\n",
    "        else:\n",
    "            continue\n",
    "    return data_filt\n",
    "\n",
    "print(like_filter(lambda x: x > 3, data))\n",
    "print(list(filter(lambda x: x > 3, data))) # Test to see if returns the same\n",
    "print(data)"
   ]
  },
  {
   "cell_type": "code",
   "execution_count": 104,
   "metadata": {},
   "outputs": [
    {
     "name": "stdout",
     "output_type": "stream",
     "text": [
      "['A', 'C', 'A', 'D', 'G', 'I', 'L', 'D']\n",
      "['x', 'xx', 'xxx', 'xxxx', 'y', 'yy', 'yyy', 'yyyy', 'z', 'zz', 'zzz', 'zzzz']\n",
      "['x', 'y', 'z', 'xx', 'yy', 'zz', 'xxx', 'yyy', 'zzz', 'xxxx', 'yyyy', 'zzzz']\n",
      "[[2], [3], [4], [3], [4], [5], [4], [5], [6]]\n",
      "[[2, 3, 4, 5], [3, 4, 5, 6], [4, 5, 6, 7], [5, 6, 7, 8]]\n",
      "[(1, 1), (2, 1), (3, 1), (1, 2), (2, 2), (3, 2), (1, 3), (2, 3), (3, 3)]\n"
     ]
    }
   ],
   "source": [
    "2.\n",
    "#['A', 'C', 'A', 'D', 'G', 'I', 'L', 'D']\n",
    "list_comp1 = [letter for letter in \"ACADGILD\"]\n",
    "print(list_comp1)\n",
    "\n",
    "# ['x', 'xx', 'xxx', 'xxxx', 'y', 'yy', 'yyy', 'yyyy', 'z', 'zz', 'zzz', 'zzzz']\n",
    "list_comp2 = [char*i for char in [\"x\", \"y\", \"z\"]  for i in range(1, 5)]\n",
    "print(list_comp2)\n",
    "\n",
    "#['x', 'y', 'z', 'xx', 'yy', 'zz', 'xx', 'yy', 'zz', 'xxxx', 'yyyy', 'zzzz']\n",
    "list_comp3 = [char*i  for i in range(1, 5) for char in [\"x\", \"y\", \"z\"]]\n",
    "print(list_comp3)\n",
    "\n",
    "#[[2], [3], [4], [3], [4], [5], [4], [5], [6]]\n",
    "list_comp4 = [[i] for x in range(3) for i in range(2+x,5+x)]\n",
    "print(list_comp4)\n",
    "\n",
    "#[[2, 3, 4, 5], [3, 4, 5, 6], [4, 5, 6, 7], [5, 6, 7, 8]]\n",
    "list_comp4 = [[char+i for char in range(2,6)] for i in range(4)]\n",
    "print(list_comp4)\n",
    "\n",
    "#[(1, 1), (2, 1), (3, 1), (1, 2), (2, 2), (3, 2), (1, 3), (2, 3), (3, 3)]\n",
    "# for x in range(1, 4) for y in range(1, 2) for x in range(1, 4) for y in range(2, 3) #How i found the logic\n",
    "list_comp5 = [(x, y) for j in range(1,4) for x in range(1, 4) for y in range(0+j, 1+j)]\n",
    "print(list_comp5)"
   ]
  },
  {
   "cell_type": "code",
   "execution_count": 3,
   "metadata": {},
   "outputs": [
    {
     "name": "stdout",
     "output_type": "stream",
     "text": [
      "program\n"
     ]
    }
   ],
   "source": [
    "# 3.\n",
    "def longestWord(a_list):\n",
    "    longest_string = max(a_list, key=len)\n",
    "    print(longest_string)\n",
    "list1 = [\"program\", \"sides\", \"below\", \"parent\"]\n",
    "longestWord(list1)"
   ]
  },
  {
   "cell_type": "code",
   "execution_count": 4,
   "metadata": {},
   "outputs": [],
   "source": [
    "# Task 2:"
   ]
  },
  {
   "cell_type": "code",
   "execution_count": 6,
   "metadata": {},
   "outputs": [
    {
     "name": "stdout",
     "output_type": "stream",
     "text": [
      "6.0\n"
     ]
    }
   ],
   "source": [
    "# 1.1\n",
    "class Polygono:\n",
    "\n",
    "    def __init__(self, n):\n",
    "        self.number_of_sides = n\n",
    "\n",
    "class Triangle(Polygono):\n",
    "\n",
    "    def __init__(self, lengths_of_sides):\n",
    "        Polygono.__init__(self, 3)\n",
    "        self.lengths_of_sides = lengths_of_sides  # list of three numbers\n",
    "\n",
    "    def get_area(self):\n",
    "        # Semi-perimeter method\n",
    "        a, b, c = self.lengths_of_sides\n",
    "        s = (a + b + c) / 2\n",
    "        return (s*(s-a)*(s-b)*(s-c)) ** 0.5\n",
    "tri = Triangle([3, 4, 5])\n",
    "print(tri.get_area())"
   ]
  },
  {
   "cell_type": "code",
   "execution_count": 9,
   "metadata": {},
   "outputs": [
    {
     "name": "stdout",
     "output_type": "stream",
     "text": [
      "['program', 'parent']\n"
     ]
    }
   ],
   "source": [
    "#1.2\n",
    "def filter_long_words(a_list, n):\n",
    "    new_list =  []\n",
    "    n = int(n)\n",
    "    for i in a_list:\n",
    "        if len(i) > n:\n",
    "            new_list.append(i)\n",
    "    print(new_list)\n",
    "list1 = [\"program\", \"sides\", \"below\", \"parent\"]\n",
    "filter_long_words(list1, 5.0)"
   ]
  },
  {
   "cell_type": "code",
   "execution_count": 14,
   "metadata": {},
   "outputs": [
    {
     "name": "stdout",
     "output_type": "stream",
     "text": [
      "[2, 3, 4]\n"
     ]
    }
   ],
   "source": [
    "#2.1\n",
    "def item_length(a_list):\n",
    "    items_len = []\n",
    "    for i in a_list:\n",
    "        items_len.append(len(i))\n",
    "    print(items_len)\n",
    "list1 = [\"ab\", \"cde\", \"erty\"]\n",
    "item_length(list1)"
   ]
  },
  {
   "cell_type": "code",
   "execution_count": 18,
   "metadata": {},
   "outputs": [
    {
     "data": {
      "text/plain": [
       "False"
      ]
     },
     "execution_count": 18,
     "metadata": {},
     "output_type": "execute_result"
    }
   ],
   "source": [
    "# 2.2\n",
    "# Write a Python function which takes a character (i.e. a string of length 1) and returns True if it is\n",
    "# a vowel, False otherwise.\n",
    "def a_vowel(char):\n",
    "    vowels = (\"aeiou\")\n",
    "    if char in vowels:\n",
    "        return True\n",
    "    else:\n",
    "        return False\n",
    "a_vowel(\"t\")"
   ]
  },
  {
   "cell_type": "code",
   "execution_count": null,
   "metadata": {},
   "outputs": [],
   "source": []
  }
 ],
 "metadata": {
  "kernelspec": {
   "display_name": "Python 3",
   "language": "python",
   "name": "python3"
  },
  "language_info": {
   "codemirror_mode": {
    "name": "ipython",
    "version": 3
   },
   "file_extension": ".py",
   "mimetype": "text/x-python",
   "name": "python",
   "nbconvert_exporter": "python",
   "pygments_lexer": "ipython3",
   "version": "3.7.6"
  }
 },
 "nbformat": 4,
 "nbformat_minor": 4
}
